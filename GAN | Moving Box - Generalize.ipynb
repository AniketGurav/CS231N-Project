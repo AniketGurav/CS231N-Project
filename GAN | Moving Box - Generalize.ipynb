{
 "cells": [
  {
   "cell_type": "code",
   "execution_count": 1,
   "metadata": {
    "collapsed": false
   },
   "outputs": [],
   "source": [
    "from util import *\n",
    "from util.parser import *\n",
    "from util.img_kit import *\n",
    "from util.notebook_display import *\n",
    "from util.numeric_ops import *\n",
    "from util.tf_ops import *\n",
    "from IPython import display\n",
    "import numpy as np\n",
    "from scipy import ndimage\n",
    "from scipy import misc\n",
    "from os import walk\n",
    "import os\n",
    "import tensorflow as tf\n",
    "from PIL import Image\n",
    "\n",
    "import matplotlib.pyplot as plt\n",
    "%matplotlib inline\n",
    "plt.rcParams['image.interpolation'] = 'nearest'\n",
    "plt.rcParams['figure.figsize'] = (5.0, 5.0) # set default size of plots\n",
    "plt.rcParams['image.cmap'] = 'gray'\n",
    "\n",
    "%load_ext autoreload\n",
    "%autoreload 2"
   ]
  },
  {
   "cell_type": "markdown",
   "metadata": {},
   "source": [
    "# Collect an ensemble of data"
   ]
  },
  {
   "cell_type": "code",
   "execution_count": 7,
   "metadata": {
    "collapsed": false
   },
   "outputs": [
    {
     "name": "stdout",
     "output_type": "stream",
     "text": [
      "{'images:': 'triangle', 'dim': (50, 32, 32)}\n",
      "{'images:': 'rectangle', 'dim': (56, 32, 32)}\n",
      "{'images:': 'trangle-vertical', 'dim': (56, 32, 32)}\n",
      "{'images:': 'circle-diagnal', 'dim': (56, 32, 32)}\n",
      "{'images:': 'square-diagnal-2', 'dim': (56, 32, 32)}\n",
      "{'images:': 'rectangle', 'dim': (56, 32, 32)}\n",
      "{'images:': 'square-vertical-2', 'dim': (56, 32, 32)}\n",
      "{'images:': 'trangle-vertical-3', 'dim': (56, 32, 32)}\n",
      "{'images:': 'trangle-horizontal', 'dim': (56, 32, 32)}\n",
      "{'images:': 'square-vertical-3', 'dim': (56, 32, 32)}\n",
      "{'images:': 'rectangle', 'dim': (56, 32, 32)}\n",
      "{'images:': 'trangle-vertical-2', 'dim': (56, 32, 32)}\n",
      "{'images:': 'rectangle', 'dim': (56, 32, 32)}\n",
      "{'images:': 'moving box uniform', 'dim': (14, 32, 32)}\n",
      "{'images:': 'circle', 'dim': (56, 32, 32)}\n",
      "{'images:': 'rectangle', 'dim': (56, 32, 32)}\n",
      "{'images:': 'rectangle', 'dim': (56, 32, 32)}\n",
      "{'images:': 'rectangle', 'dim': (56, 32, 32)}\n",
      "{'images:': 'circle-diagnal-2', 'dim': (56, 32, 32)}\n",
      "{'images:': 'square-vertical', 'dim': (56, 32, 32)}\n",
      "{'images:': 'square-diagnal', 'dim': (56, 32, 32)}\n",
      "\n",
      "After Augmentation: img_collections has 21 collections\n"
     ]
    }
   ],
   "source": [
    "img_collections = get_process_moving_box()\n",
    "# number of images for each collection\n",
    "num_per_collection = [x.shape[0] for x in img_collections]\n",
    "# number of collections\n",
    "n_collection = len(img_collections)\n",
    "# total number of images\n",
    "total_imgs = sum(num_per_collection)\n",
    "print(\"\\nAfter Augmentation: img_collections has {} collections, {} images in total\".format(n_collection, total_imgs))"
   ]
  },
  {
   "cell_type": "code",
   "execution_count": 9,
   "metadata": {
    "collapsed": true
   },
   "outputs": [],
   "source": [
    "train_ind_collection, val_ind_collection = zip(*[split_train_dev(x) for x in img_collections])"
   ]
  },
  {
   "cell_type": "code",
   "execution_count": 10,
   "metadata": {
    "collapsed": true
   },
   "outputs": [],
   "source": [
    "def sample(batch_size = 8, train=True, gap = 1):\n",
    "    # get average number of training for each class\n",
    "    avg_num_per_class = int(np.ceil(batch_size/n_collection))\n",
    "    # before-index for each class\n",
    "    before_ind = []\n",
    "    for i in range(n_collection):\n",
    "        data = train_ind_collection[i] if train else val_ind_collection[i]\n",
    "        try:\n",
    "            s = np.random.choice(list(filter(lambda x:x<num_per_collection[i]-gap-1, data)),avg_num_per_class, replace=False)\n",
    "            before_ind.append(s)\n",
    "        except:\n",
    "            before_ind.append(np.array([]))\n",
    "    # after-index for each class\n",
    "    after_ind = [x+gap+1 for x in before_ind]\n",
    "    # mid-index for each class\n",
    "    mid_ind = [x+(gap+1)//2 for x in before_ind]\n",
    "    \n",
    "    selected_classed = [i for i in range(n_collection) if before_ind[i].shape[0]>0]\n",
    "    before_imgs = np.concatenate([img_collections[i][before_ind[i]] for i in selected_classed], axis = 0)\n",
    "    after_imgs = np.concatenate([img_collections[i][after_ind[i]] for i in selected_classed], axis = 0)\n",
    "    mid_imgs = np.concatenate([img_collections[i][mid_ind[i]] for i in selected_classed], axis = 0)\n",
    "    \n",
    "    clipped = np.random.choice(range(before_imgs.shape[0]), batch_size, replace=False)\n",
    "    before_imgs = before_imgs[clipped]\n",
    "    mid_imgs = mid_imgs[clipped]\n",
    "    after_imgs = after_imgs[clipped]\n",
    "    return (before_imgs, after_imgs), mid_imgs"
   ]
  },
  {
   "cell_type": "code",
   "execution_count": 11,
   "metadata": {
    "collapsed": true
   },
   "outputs": [],
   "source": [
    "def sample_train(batch_size = 8, gap = 1):\n",
    "    return sample(batch_size)\n",
    "def sample_dev(batch_size = 8, gap = 1):\n",
    "    return sample(batch_size, False, gap)"
   ]
  },
  {
   "cell_type": "markdown",
   "metadata": {},
   "source": [
    "## Take a look at input data"
   ]
  },
  {
   "cell_type": "code",
   "execution_count": 12,
   "metadata": {
    "collapsed": false
   },
   "outputs": [
    {
     "name": "stdout",
     "output_type": "stream",
     "text": [
      "Before: (4, 32, 32)\n",
      "After:  (4, 32, 32)\n",
      "Mid:    (4, 32, 32)\n"
     ]
    },
    {
     "data": {
      "image/png": "[encoded data removed]",
      "text/plain": [
       "<matplotlib.figure.Figure at 0x7fd538c6ffd0>"
      ]
     },
     "metadata": {},
     "output_type": "display_data"
    },
    {
     "data": {
      "image/png": "[encoded data removed]",
      "text/plain": [
       "<matplotlib.figure.Figure at 0x7fd538c6f240>"
      ]
     },
     "metadata": {},
     "output_type": "display_data"
    },
    {
     "data": {
      "image/png": "[encoded data removed]",
      "text/plain": [
       "<matplotlib.figure.Figure at 0x7fd4ce53c630>"
      ]
     },
     "metadata": {},
     "output_type": "display_data"
    }
   ],
   "source": [
    "(test_before, test_after), test_mid = sample_train(4)\n",
    "print(\"Before: {}\".format(test_before.shape))\n",
    "print(\"After:  {}\".format(test_after.shape))\n",
    "print(\"Mid:    {}\".format(test_mid.shape))\n",
    "size = (12, 2)\n",
    "plot_images(test_before, size, \"Before\")\n",
    "plot_images(test_mid, size, \"Mid\")\n",
    "plot_images(test_after, size, \"After\")"
   ]
  },
  {
   "cell_type": "code",
   "execution_count": 13,
   "metadata": {
    "collapsed": false,
    "scrolled": false
   },
   "outputs": [
    {
     "name": "stdout",
     "output_type": "stream",
     "text": [
      "Before: (4, 32, 32)\n",
      "After:  (4, 32, 32)\n",
      "Mid:    (4, 32, 32)\n"
     ]
    },
    {
     "data": {
      "image/png": "[encoded data removed]",
      "text/plain": [
       "<matplotlib.figure.Figure at 0x7fd538c6ff98>"
      ]
     },
     "metadata": {},
     "output_type": "display_data"
    },
    {
     "data": {
      "image/png": "[encoded data removed]",
      "text/plain": [
       "<matplotlib.figure.Figure at 0x7fd4ce38d898>"
      ]
     },
     "metadata": {},
     "output_type": "display_data"
    },
    {
     "data": {
      "image/png": "[encoded data removed]",
      "text/plain": [
       "<matplotlib.figure.Figure at 0x7fd4ce278240>"
      ]
     },
     "metadata": {},
     "output_type": "display_data"
    }
   ],
   "source": [
    "(test_before, test_after), test_mid = sample_dev(4, 11)\n",
    "print(\"Before: {}\".format(test_before.shape))\n",
    "print(\"After:  {}\".format(test_after.shape))\n",
    "print(\"Mid:    {}\".format(test_mid.shape))\n",
    "plot_images(test_before, size, \"Before\")\n",
    "plot_images(test_mid, size, \"Mid\")\n",
    "plot_images(test_after, size, \"After\")"
   ]
  },
  {
   "cell_type": "code",
   "execution_count": 71,
   "metadata": {
    "collapsed": true
   },
   "outputs": [],
   "source": [
    "def content_loss(x, gd):\n",
    "    x, gd = tf.contrib.layers.flatten(x), tf.contrib.layers.flatten(gd)\n",
    "#     return tf.norm(x-gd)\n",
    "    return tf.reduce_mean(tf.abs(x-gd))\n",
    "\n",
    "\n",
    "def gan_loss(logits_real, logits_fake):\n",
    "    G_loss = tf.nn.sigmoid_cross_entropy_with_logits(labels=tf.ones_like(logits_fake), logits = logits_fake)\n",
    "    \n",
    "    D_loss = tf.nn.sigmoid_cross_entropy_with_logits(labels=tf.ones_like(logits_real), logits = logits_real)\\\n",
    "     +  tf.nn.sigmoid_cross_entropy_with_logits(labels=tf.zeros_like(logits_fake), logits = logits_fake)\n",
    "        \n",
    "    G_loss = tf.reduce_mean(G_loss)\n",
    "    D_loss = tf.reduce_mean(D_loss)\n",
    "    return D_loss, G_loss"
   ]
  },
  {
   "cell_type": "code",
   "execution_count": 72,
   "metadata": {
    "collapsed": true
   },
   "outputs": [],
   "source": [
    "def generate(x1, x2,  is_training=True):\n",
    "    \"\"\"\n",
    "    Input:\n",
    "        x1, x2: batch size of images for inference\n",
    "    Output:\n",
    "        predicted images of batch size\n",
    "    \"\"\"\n",
    "    with tf.variable_scope(\"generator\"):\n",
    "        # reshape and concatenate\n",
    "        x1 = tf.reshape(x1, [-1,  32, 32, 1])\n",
    "        x2 = tf.reshape(x2, [-1,  32, 32, 1])\n",
    "        x = tf.concat([(x1+x2)/2, (x2-x1)], axis=3)\n",
    "        \n",
    "        x = tf.layers.conv2d(x, filters = 128, kernel_size=2, padding='same', activation=tf.nn.relu)\n",
    "        x = tf.layers.batch_normalization(x, axis=3, training=is_training)\n",
    "        \n",
    "        x = tf.layers.conv2d(x, filters = 64, kernel_size=2, padding='same', activation=tf.nn.relu)\n",
    "        x = tf.layers.batch_normalization(x, axis=3, training=is_training)\n",
    "        \n",
    "        x = tf.contrib.layers.flatten(x)\n",
    "        x = tf.layers.dense(x, 1024, activation=tf.nn.relu)\n",
    "        x = tf.layers.batch_normalization(x, training=is_training)\n",
    "        \n",
    "        x = tf.layers.dense(x, 8*8*128, activation=tf.nn.relu)\n",
    "        x = tf.reshape(x, [-1, 8, 8, 128])\n",
    "        \n",
    "        x = tf.layers.conv2d(x, filters = 32, kernel_size=2, padding='same', activation=tf.nn.relu)\n",
    "        x = tf.layers.batch_normalization(x, axis=3, training=is_training)\n",
    "        \n",
    "        x = tf.layers.conv2d_transpose(x, filters=64, kernel_size=(4, 4), strides=(2, 2), activation=tf.nn.relu, padding='same')\n",
    "        x = tf.layers.batch_normalization(x,  axis=3, training=is_training)\n",
    "        \n",
    "        img = tf.layers.conv2d_transpose(x, filters=1, kernel_size=(4, 4),  strides=(2, 2), activation=tf.nn.tanh, padding='same')\n",
    "        img = tf.reshape(img, [-1, 32, 32, 1])\n",
    "        return img"
   ]
  },
  {
   "cell_type": "code",
   "execution_count": 73,
   "metadata": {
    "collapsed": true
   },
   "outputs": [],
   "source": [
    "def get_solvers(learning_rate=1e-3, beta1=0.5):\n",
    "    D_solver = tf.train.AdamOptimizer(learning_rate=learning_rate, beta1=beta1)\n",
    "    G_solver = tf.train.AdamOptimizer(learning_rate=learning_rate, beta1=beta1)\n",
    "    return D_solver, G_solver"
   ]
  },
  {
   "cell_type": "code",
   "execution_count": 74,
   "metadata": {
    "collapsed": true
   },
   "outputs": [],
   "source": [
    "def get_generattion(before, after, mid):\n",
    "    dic = {batch_before: before, batch_after: after, batch_mid: mid, is_training: False}\n",
    "    gen_batch = sess.run(G_batch, dic)\n",
    "    gen_batch, loss = sess.run([G_batch, G_loss], dic)\n",
    "    return gen_batch, loss"
   ]
  },
  {
   "cell_type": "markdown",
   "metadata": {},
   "source": [
    "### Model Param"
   ]
  },
  {
   "cell_type": "code",
   "execution_count": 75,
   "metadata": {
    "collapsed": true
   },
   "outputs": [],
   "source": [
    "gap = 1\n",
    "batch_size = 64\n",
    "\n",
    "learning_rate = 2e-4\n",
    "beta = 0.9\n",
    "num_iteration = 4000\n",
    "noise_dim = 128\n",
    "relu_alpha = 0.01"
   ]
  },
  {
   "cell_type": "code",
   "execution_count": 76,
   "metadata": {
    "collapsed": false
   },
   "outputs": [],
   "source": [
    "tf.reset_default_graph()\n",
    "batch_mid        = tf.placeholder(tf.float32, [None, 32, 32])\n",
    "batch_before     = tf.placeholder(tf.float32, [None, 32, 32])\n",
    "batch_after      = tf.placeholder(tf.float32, [None, 32, 32])\n",
    "is_training      = tf.placeholder(tf.bool, ())\n",
    "\n",
    "G_batch = generate(batch_before, batch_after)\n",
    "\n",
    "G_loss = content_loss(G_batch, batch_mid)\n",
    "_, G_solver = get_solvers(learning_rate, beta)\n",
    "\n",
    "G_vars = tf.get_collection(tf.GraphKeys.TRAINABLE_VARIABLES, 'generator') \n",
    "\n",
    "G_train_step = G_solver.minimize(G_loss, var_list=G_vars)"
   ]
  },
  {
   "cell_type": "code",
   "execution_count": null,
   "metadata": {
    "collapsed": true
   },
   "outputs": [],
   "source": [
    "def train(sess, G_step, G_loss, batch_size, num_iteration, plot_every = 400, show_loss_every=400, nPlot=6):\n",
    "    g_losses = []\n",
    "    for i in range(num_iteration):\n",
    "        (real_before, real_after), real_mid = sample_train(batch_size, gap)\n",
    "        dic = {batch_mid: real_mid, batch_before: real_before, batch_after: real_after, is_training: True}\n",
    "        _, G_loss_curr = sess.run([G_train_step, G_loss], dic)\n",
    "        \n",
    "        g_losses.append(G_loss_curr)\n",
    "        if i%show_loss_every ==0:\n",
    "            print(\"Iteration {}:  G_loss = {}\".format(i, G_loss_curr))\n",
    "            \n",
    "        if i%plot_every == 0:\n",
    "            gen_batch_test = sess.run(G_batch, feed_dict=\\\n",
    "                                      {batch_before: real_before, batch_after: real_after, is_training: False})\n",
    "            plot_batch_images(gen_batch_test[:nPlot], (16, 2) , \"Iteration: {}\".format(i))\n",
    "    return g_losses"
   ]
  },
  {
   "cell_type": "markdown",
   "metadata": {},
   "source": [
    "## Train !"
   ]
  },
  {
   "cell_type": "code",
   "execution_count": null,
   "metadata": {
    "collapsed": false,
    "scrolled": false
   },
   "outputs": [
    {
     "name": "stdout",
     "output_type": "stream",
     "text": [
      "Iteration 0:  G_loss = 1.0031788349151611\n"
     ]
    },
    {
     "data": {
      "image/png": "[encoded data removed]",
      "text/plain": [
       "<matplotlib.figure.Figure at 0x7fd47414ef60>"
      ]
     },
     "metadata": {},
     "output_type": "display_data"
    },
    {
     "name": "stdout",
     "output_type": "stream",
     "text": [
      "Iteration 400:  G_loss = 0.10667441040277481\n"
     ]
    },
    {
     "data": {
      "image/png": "[encoded data removed]",
      "text/plain": [
       "<matplotlib.figure.Figure at 0x7fd42970f358>"
      ]
     },
     "metadata": {},
     "output_type": "display_data"
    },
    {
     "name": "stdout",
     "output_type": "stream",
     "text": [
      "Iteration 800:  G_loss = 0.04039881378412247\n"
     ]
    },
    {
     "data": {
      "image/png": "[encoded data removed]",
      "text/plain": [
       "<matplotlib.figure.Figure at 0x7fd42957d080>"
      ]
     },
     "metadata": {},
     "output_type": "display_data"
    }
   ],
   "source": [
    "sess = get_session()\n",
    "sess.run(tf.global_variables_initializer())\n",
    "g_loss = train(sess, G_train_step, G_loss, batch_size, num_iteration, plot_every = 400)"
   ]
  },
  {
   "cell_type": "code",
   "execution_count": null,
   "metadata": {
    "collapsed": false
   },
   "outputs": [],
   "source": [
    "figsize = (8, 2)\n",
    "\n",
    "plt.figure(figsize=figsize)\n",
    "plt.plot(g_loss)\n",
    "plt.title(\"Generator Losses\")\n",
    "plt.show()"
   ]
  },
  {
   "cell_type": "code",
   "execution_count": null,
   "metadata": {
    "collapsed": true
   },
   "outputs": [],
   "source": [
    "def test_seen(num=4, gap = 3):\n",
    "    (real_before, real_after), real_mid = sample_train(num, gap)\n",
    "    gen_batch, loss = get_generattion(real_before, real_after, real_mid)\n",
    "    print(\"Loss = {}\".format(loss))\n",
    "    size = (16, 2)\n",
    "    plot_images(real_before, size, \"Before\")\n",
    "    plot_images(real_after, size, \"After\")\n",
    "    plot_images(real_mid, size, \"Mid - Real\")\n",
    "    plot_images(gen_batch, size, \"Mid - Generated\")"
   ]
  },
  {
   "cell_type": "code",
   "execution_count": null,
   "metadata": {
    "collapsed": false,
    "scrolled": false
   },
   "outputs": [],
   "source": [
    "test_seen()"
   ]
  },
  {
   "cell_type": "code",
   "execution_count": null,
   "metadata": {
    "collapsed": true
   },
   "outputs": [],
   "source": [
    "def test_unseens(num = 4, gap = 1):\n",
    "    \"\"\"\n",
    "    randomely sample and test generator\n",
    "    \"\"\"\n",
    "    (real_before, real_after), real_mid = sample_dev(num, gap)\n",
    "    dic = {batch_before: real_before, batch_after: real_after, batch_mid: real_mid, is_training: False}\n",
    "    gen_batch, loss = sess.run([G_batch, G_loss], dic)\n",
    "    print(\"Loss = {}\".format(loss))\n",
    "    size = (16, 2)\n",
    "    plot_images(real_before, size, \"Before\")\n",
    "    plot_images(real_after, size, \"After\")\n",
    "    plot_images(real_mid, size, \"Mid - Real\")\n",
    "    plot_images(gen_batch, size, \"Mid - Generated\")"
   ]
  },
  {
   "cell_type": "code",
   "execution_count": null,
   "metadata": {
    "collapsed": false,
    "scrolled": false
   },
   "outputs": [],
   "source": [
    "test_unseens(gap = 1)"
   ]
  },
  {
   "cell_type": "markdown",
   "metadata": {
    "collapsed": true
   },
   "source": [
    "## Test a total difference dataset"
   ]
  },
  {
   "cell_type": "code",
   "execution_count": null,
   "metadata": {
    "collapsed": true
   },
   "outputs": [],
   "source": [
    "def sample_imgs(imgs, gap = 1, batch_size = 8):\n",
    "    \"\"\"\n",
    "    return: (before, after), mid\n",
    "    \"\"\"\n",
    "    before_indexes = np.random.choice(range(len(imgs) - gap - 1), batch_size, replace=False)\n",
    "    before_indexes.sort()\n",
    "    after_indexes = before_indexes + gap + 1\n",
    "    mid_indexes = (before_indexes + after_indexes)//2\n",
    "    return (imgs[before_indexes], imgs[after_indexes]), imgs[mid_indexes]"
   ]
  },
  {
   "cell_type": "code",
   "execution_count": null,
   "metadata": {
    "collapsed": false
   },
   "outputs": [],
   "source": [
    "test_imgs = load_imgs(\"data/moving-box/test/rectangle-32x32.npz\")"
   ]
  },
  {
   "cell_type": "code",
   "execution_count": null,
   "metadata": {
    "collapsed": false
   },
   "outputs": [],
   "source": [
    "(test_before, test_after), test_mid = sample_imgs(test_imgs, gap = 1)\n",
    "gen_batch, loss = get_generattion(test_before, test_after, test_mid)\n",
    "print(\"Loss = {}\".format(loss))\n",
    "size = (16, 2)\n",
    "plot_images(test_before, size, \"Before\")\n",
    "plot_images(test_after, size, \"After\")\n",
    "plot_images(test_mid, size, \"Mid-Real\")\n",
    "plot_images(gen_batch, size, \"Mid-Generated\")"
   ]
  },
  {
   "cell_type": "code",
   "execution_count": null,
   "metadata": {
    "collapsed": true
   },
   "outputs": [],
   "source": []
  },
  {
   "cell_type": "code",
   "execution_count": null,
   "metadata": {
    "collapsed": true
   },
   "outputs": [],
   "source": []
  }
 ],
 "metadata": {
  "kernelspec": {
   "display_name": "Python 3",
   "language": "python",
   "name": "python3"
  },
  "language_info": {
   "codemirror_mode": {
    "name": "ipython",
    "version": 3
   },
   "file_extension": ".py",
   "mimetype": "text/x-python",
   "name": "python",
   "nbconvert_exporter": "python",
   "pygments_lexer": "ipython3",
   "version": "3.5.2"
  }
 },
 "nbformat": 4,
 "nbformat_minor": 2
}
