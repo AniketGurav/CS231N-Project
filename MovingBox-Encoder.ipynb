{
 "cells": [
  {
   "cell_type": "markdown",
   "metadata": {},
   "source": [
    "# Moving Box - Encoder Decoder"
   ]
  },
  {
   "cell_type": "code",
   "execution_count": 1,
   "metadata": {
    "collapsed": true
   },
   "outputs": [],
   "source": [
    "from util import *\n",
    "from util.parser import *\n",
    "from util.img_kit import *\n",
    "from util.notebook_display import *\n",
    "from util.numeric_ops import *\n",
    "from util.tf_ops import *\n",
    "\n",
    "from IPython import display\n",
    "import numpy as np\n",
    "from scipy import ndimage\n",
    "from scipy import misc\n",
    "from os import walk\n",
    "import os\n",
    "import tensorflow as tf\n",
    "from PIL import Image\n",
    "\n",
    "import matplotlib.pyplot as plt\n",
    "%matplotlib inline\n",
    "plt.rcParams['image.interpolation'] = 'nearest'\n",
    "plt.rcParams['figure.figsize'] = (5.0, 5.0) # set default size of plots\n",
    "plt.rcParams['image.cmap'] = 'gray'\n",
    "\n",
    "%load_ext autoreload\n",
    "%autoreload 2"
   ]
  },
  {
   "cell_type": "markdown",
   "metadata": {},
   "source": [
    "## Collect an ensemble of box data"
   ]
  },
  {
   "cell_type": "code",
   "execution_count": 2,
   "metadata": {
    "collapsed": false
   },
   "outputs": [
    {
     "name": "stdout",
     "output_type": "stream",
     "text": [
      "{'images:': 'bigsquare-vertical-4', 'dim': (56, 32, 32)}\n",
      "{'images:': 'bigSquare-vertical-2', 'dim': (56, 32, 32)}\n",
      "{'images:': 'square-diagnal-2', 'dim': (56, 32, 32)}\n",
      "{'images:': 'square-vertical-4', 'dim': (56, 32, 32)}\n",
      "{'images:': 'bigSquare-vertical', 'dim': (56, 32, 32)}\n",
      "{'images:': 'bigSquare-diagnal-2', 'dim': (56, 32, 32)}\n",
      "{'images:': 'square-vertical-2', 'dim': (56, 32, 32)}\n",
      "{'images:': 'square-vertical-5', 'dim': (56, 32, 32)}\n",
      "{'images:': 'square-vertical-3', 'dim': (56, 32, 32)}\n",
      "{'images:': 'bigSquare-vertical-3', 'dim': (56, 32, 32)}\n",
      "{'images:': 'bigSquare-diagnal', 'dim': (56, 32, 32)}\n",
      "{'images:': 'bigsquare-vertical-5', 'dim': (56, 32, 32)}\n",
      "{'images:': 'square-diagnal', 'dim': (56, 32, 32)}\n",
      "\n",
      "After Augmentation: img_collections has 13 collections, 728 images in total\n"
     ]
    }
   ],
   "source": [
    "img_collections = get_processed_moving_box_squares()\n",
    "# number of images for each collection\n",
    "num_per_collection = [x.shape[0] for x in img_collections]\n",
    "# number of collections\n",
    "n_collection = len(img_collections)\n",
    "# total number of images\n",
    "total_imgs = sum(num_per_collection)\n",
    "print(\"\\nAfter Augmentation: img_collections has {} collections, {} images in total\".format(n_collection, total_imgs))"
   ]
  },
  {
   "cell_type": "code",
   "execution_count": 3,
   "metadata": {
    "collapsed": false
   },
   "outputs": [
    {
     "name": "stdout",
     "output_type": "stream",
     "text": [
      "{'images:': 'square-vertical', 'dim': (56, 32, 32)}\n"
     ]
    }
   ],
   "source": [
    "test_file = \"data/moving-box/processed/Box/test/square-vertical.npz\"\n",
    "test_imgs = load_imgs(test_file)"
   ]
  },
  {
   "cell_type": "markdown",
   "metadata": {},
   "source": [
    "## Sample Train and Dev"
   ]
  },
  {
   "cell_type": "code",
   "execution_count": 4,
   "metadata": {
    "collapsed": true
   },
   "outputs": [],
   "source": [
    "def sample(batch_size = 8, train=True, gap = 1):\n",
    "    train_ind_collection, val_ind_collection = zip(*[split_train_dev(x) for x in img_collections])\n",
    "          \n",
    "    # get average number of training for each class\n",
    "    avg_num_per_class = int(np.ceil(batch_size/n_collection))\n",
    "    # before-index for each class\n",
    "    before_ind = []\n",
    "    for i in range(n_collection):\n",
    "        data = train_ind_collection[i] if train else val_ind_collection[i]\n",
    "        try:\n",
    "            s = np.random.choice(list(filter(lambda x:x<num_per_collection[i]-gap-1, data)),avg_num_per_class, replace=False)\n",
    "            before_ind.append(s)\n",
    "        except:\n",
    "            before_ind.append(np.array([]))\n",
    "    # after-index for each class\n",
    "    after_ind = [x+gap+1 for x in before_ind]\n",
    "    # mid-index for each class\n",
    "    mid_ind = [x+(gap+1)//2 for x in before_ind]\n",
    "    \n",
    "    selected_classed = [i for i in range(n_collection) if before_ind[i].shape[0]>0]\n",
    "    before_imgs = np.concatenate([img_collections[i][before_ind[i]] for i in selected_classed], axis = 0)\n",
    "    after_imgs = np.concatenate([img_collections[i][after_ind[i]] for i in selected_classed], axis = 0)\n",
    "    mid_imgs = np.concatenate([img_collections[i][mid_ind[i]] for i in selected_classed], axis = 0)\n",
    "    \n",
    "    clipped = np.random.choice(range(before_imgs.shape[0]), batch_size, replace=False)\n",
    "    before_imgs = before_imgs[clipped]\n",
    "    mid_imgs = mid_imgs[clipped]\n",
    "    after_imgs = after_imgs[clipped]\n",
    "    return (before_imgs, after_imgs), mid_imgs\n",
    "\n",
    "\n",
    "def sample_train(batch_size = 8, gap = 1): return sample(batch_size, True, gap = gap)\n",
    "\n",
    "def sample_dev(batch_size = 8, gap = 1):  return sample(batch_size, False, gap)"
   ]
  },
  {
   "cell_type": "markdown",
   "metadata": {},
   "source": [
    "## Sample Test"
   ]
  },
  {
   "cell_type": "code",
   "execution_count": 5,
   "metadata": {
    "collapsed": true
   },
   "outputs": [],
   "source": [
    "def sample_test(batch_size = 8, gap = 1):  \n",
    "    return sample_pred_frames(test_imgs, gap, batch_size)"
   ]
  },
  {
   "cell_type": "markdown",
   "metadata": {},
   "source": [
    "## Take a look at Training data"
   ]
  },
  {
   "cell_type": "code",
   "execution_count": 6,
   "metadata": {
    "collapsed": false
   },
   "outputs": [
    {
     "name": "stdout",
     "output_type": "stream",
     "text": [
      "Before: (8, 32, 32)\n",
      "After:  (8, 32, 32)\n",
      "Mid:    (8, 32, 32)\n"
     ]
    },
    {
     "data": {
      "image/png": "[encoded data removed]",
      "text/plain": [
       "<matplotlib.figure.Figure at 0x7f6b266165f8>"
      ]
     },
     "metadata": {},
     "output_type": "display_data"
    },
    {
     "data": {
      "image/png": "[encoded data removed]",
      "text/plain": [
       "<matplotlib.figure.Figure at 0x7f6b26616be0>"
      ]
     },
     "metadata": {},
     "output_type": "display_data"
    },
    {
     "data": {
      "image/png": "[encoded data removed]",
      "text/plain": [
       "<matplotlib.figure.Figure at 0x7f6b244b4be0>"
      ]
     },
     "metadata": {},
     "output_type": "display_data"
    }
   ],
   "source": [
    "(test_before, test_after), test_mid = sample_train(batch_size=8, gap=5)\n",
    "print(\"Before: {}\".format(test_before.shape))\n",
    "print(\"After:  {}\".format(test_after.shape))\n",
    "print(\"Mid:    {}\".format(test_mid.shape))\n",
    "size = (20, 2)\n",
    "plot_images(test_before, size, \"Before\")\n",
    "plot_images(test_mid, size, \"Mid\")\n",
    "plot_images(test_after, size, \"After\")"
   ]
  },
  {
   "cell_type": "markdown",
   "metadata": {},
   "source": [
    "## Sample of Test Data"
   ]
  },
  {
   "cell_type": "markdown",
   "metadata": {},
   "source": [
    "before, after, mid = sample_test(batch_size=8, gap=5)\n",
    "print(\"Before: {}\".format(test_before.shape))\n",
    "print(\"After:  {}\".format(test_after.shape))\n",
    "print(\"Mid:    {}\".format(test_mid.shape))\n",
    "size = (20, 2)\n",
    "plot_images(before, size, \"Before\")\n",
    "plot_images(mid, size, \"Mid\")\n",
    "plot_images(after, size, \"After\")"
   ]
  },
  {
   "cell_type": "markdown",
   "metadata": {},
   "source": [
    "# Model"
   ]
  },
  {
   "cell_type": "markdown",
   "metadata": {},
   "source": [
    "## Param"
   ]
  },
  {
   "cell_type": "code",
   "execution_count": 59,
   "metadata": {
    "collapsed": true
   },
   "outputs": [],
   "source": [
    "feature_channel = 64\n",
    "\n",
    "gap = 3\n",
    "batch_size = 32\n",
    "\n",
    "learning_rate = 8e-5\n",
    "beta = 0.9 # defalut 0.9 for adam\n",
    "num_iteration = 4000\n",
    "relu_alpha = 0.01"
   ]
  },
  {
   "cell_type": "markdown",
   "metadata": {},
   "source": [
    "# Encoder"
   ]
  },
  {
   "cell_type": "code",
   "execution_count": 60,
   "metadata": {
    "collapsed": true
   },
   "outputs": [],
   "source": [
    "def encode(img, is_training=True):\n",
    "    \"\"\"\n",
    "    Input:\n",
    "        batch size of img\n",
    "    Output:\n",
    "        batch size of feature [batch_size, 8 x 8 x feature_channel]\n",
    "    \"\"\"\n",
    "    img = tf.reshape(img, [-1, 32, 32, 1])\n",
    "    x = tf.layers.conv2d(img, filters = 4, kernel_size=3, strides=2, padding='same', activation=tf.nn.relu)\n",
    "    x = tf.layers.batch_normalization(x, axis=3, training=is_training)\n",
    "\n",
    "    x = tf.layers.conv2d(x, filters = 8, kernel_size=3, strides=2, padding='same', activation=tf.nn.relu)\n",
    "    x = tf.layers.batch_normalization(x, axis=3, training=is_training)\n",
    "\n",
    "    x = tf.layers.conv2d(x, filters = 16, kernel_size=2, padding='same', activation=tf.nn.relu)\n",
    "    x = tf.layers.batch_normalization(x, axis=3, training=is_training)\n",
    "\n",
    "    x = tf.layers.conv2d(x, filters = feature_channel, kernel_size=2, padding='same', activation=tf.nn.relu)\n",
    "    x = tf.layers.batch_normalization(x, axis=3, training=is_training)\n",
    "    x = tf.contrib.layers.flatten(x)\n",
    "    return x"
   ]
  },
  {
   "cell_type": "markdown",
   "metadata": {},
   "source": [
    "# Decoder"
   ]
  },
  {
   "cell_type": "code",
   "execution_count": 61,
   "metadata": {
    "collapsed": false
   },
   "outputs": [],
   "source": [
    "def decode(feature1, feature2, is_training=True):\n",
    "    \"\"\"\n",
    "    Input:\n",
    "        batch size of feature [batch_size, 8 x 8 x feature_channel]\n",
    "    Output:\n",
    "        batch size of img [batch_size, 32, 32, 1]\n",
    "    \"\"\"\n",
    "\n",
    "    x = w1 * feature1 + (1-w1) * feature2 + bias\n",
    "\n",
    "    x = tf.layers.dense(x, 8*8*128, activation=tf.nn.relu)\n",
    "    x = tf.reshape(x, [-1, 8, 8, 128])\n",
    "\n",
    "    x = tf.layers.conv2d(x, filters = 32, kernel_size=2, padding='same', activation=tf.nn.relu)\n",
    "    x = tf.layers.batch_normalization(x, axis=3, training=is_training)\n",
    "\n",
    "    x = tf.layers.conv2d_transpose(x, filters=64, kernel_size=(4, 4), strides=(2, 2), activation=tf.nn.relu, padding='same')\n",
    "    x = tf.layers.batch_normalization(x,  axis=3, training=is_training)\n",
    "\n",
    "    img = tf.layers.conv2d_transpose(x, filters=1, kernel_size=(4, 4),  strides=(2, 2), activation=tf.nn.tanh, padding='same')\n",
    "    img = tf.reshape(img, [-1, 32, 32, 1])\n",
    "    return img"
   ]
  },
  {
   "cell_type": "markdown",
   "metadata": {},
   "source": [
    "## Generator"
   ]
  },
  {
   "cell_type": "code",
   "execution_count": 62,
   "metadata": {
    "collapsed": true
   },
   "outputs": [],
   "source": [
    "def generate(x1, x2,  is_training=True):\n",
    "    with tf.variable_scope(\"generator\") as scope:\n",
    "        feature1, feature2 = encode(x1, is_training), encode(x2, is_training)\n",
    "        img = decode(feature1, feature2, is_training)\n",
    "        return img"
   ]
  },
  {
   "cell_type": "markdown",
   "metadata": {},
   "source": [
    "### Loss"
   ]
  },
  {
   "cell_type": "code",
   "execution_count": 63,
   "metadata": {
    "collapsed": true
   },
   "outputs": [],
   "source": [
    "def content_loss(x, gd):\n",
    "    x, gd = tf.contrib.layers.flatten(x), tf.contrib.layers.flatten(gd)\n",
    "    return tf.norm(x-gd)"
   ]
  },
  {
   "cell_type": "markdown",
   "metadata": {},
   "source": [
    "### Get a Batch Generation"
   ]
  },
  {
   "cell_type": "code",
   "execution_count": 64,
   "metadata": {
    "collapsed": true
   },
   "outputs": [],
   "source": [
    "def get_generattion(before, after, mid):\n",
    "    dic = {batch_before: before, batch_after: after, batch_mid: mid, is_training: False}\n",
    "    gen_batch = sess.run(G_batch, dic)\n",
    "    return gen_batch"
   ]
  },
  {
   "cell_type": "markdown",
   "metadata": {},
   "source": [
    "### Solver"
   ]
  },
  {
   "cell_type": "code",
   "execution_count": 65,
   "metadata": {
    "collapsed": true
   },
   "outputs": [],
   "source": [
    "def get_solver(learning_rate=1e-3, beta1=0.5):\n",
    "    return tf.train.AdamOptimizer(learning_rate=learning_rate, beta1=beta1)"
   ]
  },
  {
   "cell_type": "markdown",
   "metadata": {},
   "source": [
    "### Report Loss = loss_computed * 255 / batch_size"
   ]
  },
  {
   "cell_type": "code",
   "execution_count": 66,
   "metadata": {
    "collapsed": true
   },
   "outputs": [],
   "source": [
    "def report_loss(before, after, mid, num_run = 1000):\n",
    "    dic = {batch_before: before, batch_after: after, batch_mid: mid, is_training: False}\n",
    "    return np.mean([sess.run(G_loss, dic) for _ in range(num_run)]) / batch_size * 255"
   ]
  },
  {
   "cell_type": "markdown",
   "metadata": {},
   "source": [
    "## Computational Graph"
   ]
  },
  {
   "cell_type": "code",
   "execution_count": 67,
   "metadata": {
    "collapsed": false
   },
   "outputs": [
    {
     "name": "stdout",
     "output_type": "stream",
     "text": [
      "Tensor(\"generator/Variable/read:0\", shape=(), dtype=float32)\n",
      "Tensor(\"generator/Variable_1/read:0\", shape=(), dtype=float32)\n"
     ]
    }
   ],
   "source": [
    "tf.reset_default_graph()\n",
    "batch_mid        = tf.placeholder(tf.float32, [None, 32, 32])\n",
    "batch_before     = tf.placeholder(tf.float32, [None, 32, 32])\n",
    "batch_after      = tf.placeholder(tf.float32, [None, 32, 32])\n",
    "is_training      = tf.placeholder(tf.bool, ())\n",
    "\n",
    "with tf.variable_scope(\"generator\") as scope:\n",
    "    w1   = tf.Variable(0.5, \"encoder weight\")\n",
    "    bias = tf.Variable(0.,  \"encoder bias\")\n",
    "\n",
    "for x in tf.global_variables():\n",
    "    print(x)\n",
    "G_batch = generate(batch_before, batch_after)\n",
    "\n",
    "G_loss = content_loss(G_batch, batch_mid)\n",
    "G_solver = get_solver(learning_rate, beta)\n",
    "\n",
    "G_vars = tf.get_collection(tf.GraphKeys.TRAINABLE_VARIABLES, 'generator') \n",
    "\n",
    "G_train_step = G_solver.minimize(G_loss, var_list=G_vars)"
   ]
  },
  {
   "cell_type": "code",
   "execution_count": null,
   "metadata": {
    "collapsed": true
   },
   "outputs": [],
   "source": [
    "def train(sess, G_step, G_loss, batch_size, num_iteration, plot_every = 400, show_loss_every=400, nPlot=6):\n",
    "    g_losses = []\n",
    "    for i in range(num_iteration):\n",
    "        (real_before, real_after), real_mid = sample_train(batch_size, gap)\n",
    "        dic = {batch_mid: real_mid, batch_before: real_before, batch_after: real_after, is_training: True}\n",
    "        _, G_loss_curr = sess.run([G_train_step, G_loss], dic)\n",
    "        \n",
    "        g_losses.append(G_loss_curr)\n",
    "        if i%show_loss_every ==0:\n",
    "            print(\"Iteration {}:  G_loss = {}\".format(i, G_loss_curr))\n",
    "            \n",
    "        if i%plot_every == 0:\n",
    "            gen_batch_test = sess.run(G_batch, feed_dict=\\\n",
    "                                      {batch_before: real_before, batch_after: real_after, is_training: False})\n",
    "            plot_batch_images(gen_batch_test[:nPlot], (16, 2) , \"Iteration: {}\".format(i))\n",
    "    return g_losses"
   ]
  },
  {
   "cell_type": "markdown",
   "metadata": {},
   "source": [
    "# Train !"
   ]
  },
  {
   "cell_type": "code",
   "execution_count": null,
   "metadata": {
    "collapsed": false,
    "scrolled": false
   },
   "outputs": [
    {
     "name": "stdout",
     "output_type": "stream",
     "text": [
      "Iteration 0:  G_loss = 199.33082580566406\n"
     ]
    },
    {
     "data": {
      "image/png": "[encoded data removed]",
      "text/plain": [
       "<matplotlib.figure.Figure at 0x7f6a8e9856a0>"
      ]
     },
     "metadata": {},
     "output_type": "display_data"
    },
    {
     "name": "stdout",
     "output_type": "stream",
     "text": [
      "Iteration 200:  G_loss = 71.08796691894531\n"
     ]
    },
    {
     "data": {
      "image/png": "[encoded data removed]",
      "text/plain": [
       "<matplotlib.figure.Figure at 0x7f6afc651be0>"
      ]
     },
     "metadata": {},
     "output_type": "display_data"
    },
    {
     "name": "stdout",
     "output_type": "stream",
     "text": [
      "Iteration 400:  G_loss = 37.66884231567383\n"
     ]
    },
    {
     "data": {
      "image/png": "[encoded data removed]",
      "text/plain": [
       "<matplotlib.figure.Figure at 0x7f6a8d014c50>"
      ]
     },
     "metadata": {},
     "output_type": "display_data"
    }
   ],
   "source": [
    "sess = get_session()\n",
    "sess.run(tf.global_variables_initializer())\n",
    "g_loss = train(sess, G_train_step, G_loss, batch_size, num_iteration, plot_every = 200, show_loss_every = 200)"
   ]
  },
  {
   "cell_type": "markdown",
   "metadata": {},
   "source": [
    "## Plot of Learning Curve"
   ]
  },
  {
   "cell_type": "code",
   "execution_count": null,
   "metadata": {
    "collapsed": false,
    "scrolled": false
   },
   "outputs": [],
   "source": [
    "figsize = (20, 12)\n",
    "\n",
    "plt.figure(figsize=figsize)\n",
    "plt.plot(g_loss)\n",
    "plt.title(\"Generator Losses\")\n",
    "plt.show()"
   ]
  },
  {
   "cell_type": "markdown",
   "metadata": {},
   "source": [
    "# Evaluate !"
   ]
  },
  {
   "cell_type": "markdown",
   "metadata": {},
   "source": [
    "## - Evaluate on Training Data"
   ]
  },
  {
   "cell_type": "code",
   "execution_count": null,
   "metadata": {
    "collapsed": false
   },
   "outputs": [],
   "source": [
    "def eval_train(num=4, gap = 3):\n",
    "    (before, after), mid = sample_train(num, gap)\n",
    "    gen_batch = get_generattion(before, after, mid)\n",
    "    size = (20, 2)\n",
    "    plot_images(before, size, \"Before\")\n",
    "    plot_images(after, size, \"After\")\n",
    "    plot_images(mid, size, \"Mid - Real\")\n",
    "    plot_images(gen_batch, size, \"Mid - Generated\")\n",
    "    \n",
    "    loss = report_loss(before, after, mid)\n",
    "    print(\"Training Loss = {}\".format(loss))\n",
    "\n",
    "eval_train(num = 8, gap = 3)"
   ]
  },
  {
   "cell_type": "markdown",
   "metadata": {},
   "source": [
    "## - Evaluate on Validation Data"
   ]
  },
  {
   "cell_type": "code",
   "execution_count": null,
   "metadata": {
    "collapsed": false
   },
   "outputs": [],
   "source": [
    "def eval_val(num = 4, gap = 1, num_test = 1000):\n",
    "    (before, after), mid = sample_dev(num, gap)\n",
    "    gen_batch = get_generattion(before, after, mid)\n",
    "    size = (20, 2)\n",
    "    plot_images(before, size, \"Before\")\n",
    "    plot_images(after, size, \"After\")\n",
    "    plot_images(mid, size, \"Mid - Real\")\n",
    "    plot_images(gen_batch, size, \"Mid - Generated\")\n",
    "    \n",
    "    loss = report_loss(before, after, mid)\n",
    "    print(\"Validation Loss = {}\".format(loss))\n",
    "\n",
    "eval_val(num = 8, gap = 3)"
   ]
  },
  {
   "cell_type": "markdown",
   "metadata": {},
   "source": [
    "## - Evaluate on Test Data"
   ]
  },
  {
   "cell_type": "code",
   "execution_count": null,
   "metadata": {
    "collapsed": false
   },
   "outputs": [],
   "source": [
    "def eval_test(num = 6, gap = 3):\n",
    "    before, after, mid = sample_test(num, gap)\n",
    "    gen_batch = get_generattion(before, after, mid)\n",
    "    size = (20, 2)\n",
    "    plot_images(before, size, \"Before\")\n",
    "    plot_images(after, size, \"After\")\n",
    "    plot_images(mid, size, \"Mid - Real\")\n",
    "    plot_images(gen_batch, size, \"Mid - Generated\")\n",
    "    \n",
    "    loss = report_loss(before, after, mid)\n",
    "    print(\"Test Loss = {}\".format(loss))\n",
    "\n",
    "eval_test()"
   ]
  },
  {
   "cell_type": "markdown",
   "metadata": {
    "collapsed": true
   },
   "source": [
    "## Display trained weigth and bias"
   ]
  },
  {
   "cell_type": "code",
   "execution_count": null,
   "metadata": {
    "collapsed": false
   },
   "outputs": [],
   "source": [
    "w1_trained, bias_trained = sess.run([w1, bias])\n",
    "print(\"w1 = {} | bias = {}\".format(w1_trained, bias_trained))"
   ]
  }
 ],
 "metadata": {
  "kernelspec": {
   "display_name": "Python 3",
   "language": "python",
   "name": "python3"
  },
  "language_info": {
   "codemirror_mode": {
    "name": "ipython",
    "version": 3
   },
   "file_extension": ".py",
   "mimetype": "text/x-python",
   "name": "python",
   "nbconvert_exporter": "python",
   "pygments_lexer": "ipython3",
   "version": "3.5.2"
  }
 },
 "nbformat": 4,
 "nbformat_minor": 2
}
