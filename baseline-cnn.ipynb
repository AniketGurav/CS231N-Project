{
 "cells": [
  {
   "cell_type": "code",
   "execution_count": 33,
   "metadata": {
    "collapsed": true
   },
   "outputs": [],
   "source": [
    "import tensorflow as tf\n",
    "from util import *\n",
    "from util.parser import *\n",
    "from util.img_kit import *\n",
    "from IPython import display\n",
    "import numpy as np\n",
    "from scipy import ndimage\n",
    "from scipy import misc\n",
    "from os import walk\n",
    "import os\n",
    "from PIL import Image\n",
    "\n",
    "import matplotlib.pyplot as plt\n",
    "%matplotlib inline\n",
    "plt.rcParams['image.interpolation'] = 'nearest'\n",
    "plt.rcParams['figure.figsize'] = (10.0, 10) # set default size of plots\n"
   ]
  },
  {
   "cell_type": "code",
   "execution_count": 4,
   "metadata": {},
   "outputs": [
    {
     "name": "stdout",
     "output_type": "stream",
     "text": [
      "Total Images: 131\n",
      "From:         square-001.jpeg\n",
      "To:           square-131.jpeg\n"
     ]
    }
   ],
   "source": [
    "\"\"\" Load data \"\"\"\n",
    "img_folder = \"data/moving-box/frames/square\"\n",
    "# img_folder = \"data/moving-box/frames/moving-two-box-uniform\"\n",
    "# img_folder = \"data/kid-conversation\"\n",
    "# img_folder = \"data/kid-swing\"\n",
    "imgs = [p[2] for p in walk(img_folder)][0]\n",
    "imgs = list(filter(lambda x: not x.startswith(\".\"), imgs))\n",
    "prefix, postfix = imgs[0].split(\"-\")[0], imgs[0].split(\".\")[1]\n",
    "print(\"Total Images: {}\".format(len(imgs)))\n",
    "print(\"From:         {}\".format(imgs[0]))\n",
    "print(\"To:           {}\".format(imgs[-1]))"
   ]
  },
  {
   "cell_type": "code",
   "execution_count": 43,
   "metadata": {},
   "outputs": [
    {
     "name": "stdout",
     "output_type": "stream",
     "text": [
      "Select Range:  1 -> 131 | 65 Intervals\n"
     ]
    }
   ],
   "source": [
    "gap = 1\n",
    "base_index = parse_img_index(imgs[0])\n",
    "to = parse_img_index(imgs[-1]) - (len(imgs)-1)%(gap + 1)\n",
    "num_intervals = (to-base_index)//(gap + 1)\n",
    "\n",
    "print(\"Select Range:  {} -> {} | {} Intervals\".format(base_index, to, num_intervals))"
   ]
  },
  {
   "cell_type": "code",
   "execution_count": 44,
   "metadata": {
    "collapsed": true
   },
   "outputs": [],
   "source": [
    "def index_to_img(i):\n",
    "    return \"{}/{}-{}.{}\".format(img_folder, prefix, \"%03d\"%(base_index + i), postfix)"
   ]
  },
  {
   "cell_type": "code",
   "execution_count": 46,
   "metadata": {},
   "outputs": [
    {
     "name": "stdout",
     "output_type": "stream",
     "text": [
      "Image shape: (256, 256, 6)\n",
      "(66, 256, 256, 3)\n",
      "(66, 256, 256, 3)\n"
     ]
    }
   ],
   "source": [
    "x_index = [i*gap for i in range(num_intervals + 1)]\n",
    "mid_index = [x + (gap+1)//2 for x in x_index[:-1]]\n",
    "X_train = np.concatenate([misc.imread(index_to_img(i))[np.newaxis, ...] for i in x_index], axis=0)\n",
    "y_train = np.concatenate([misc.imread(index_to_img(i))[np.newaxis, ...] for i in mid_index], axis=0)\n",
    "X_train = X_train.astype('float32')\n",
    "y_train = X_train.astype('float32')\n",
    "mean_image = np.mean(X_train, axis = 0)\n",
    "X_train -= mean_image\n",
    "y_train -= mean_image\n",
    "#y = [misc.imread(index_to_img(i)) for i in mid_index]  # ground truth of images in betwen\n",
    "print(\"Image shape: {}\".format(X[0].shape))\n",
    "print(X_train.shape)\n",
    "print(X_train.shape)"
   ]
  },
  {
   "cell_type": "markdown",
   "metadata": {},
   "source": [
    "## Parameter"
   ]
  },
  {
   "cell_type": "code",
   "execution_count": 47,
   "metadata": {
    "collapsed": true
   },
   "outputs": [],
   "source": [
    "batch_size = 8"
   ]
  },
  {
   "cell_type": "code",
   "execution_count": 48,
   "metadata": {
    "collapsed": true
   },
   "outputs": [],
   "source": [
    "def sample():\n",
    "    \"\"\"\n",
    "    Select a batch size of data-point from X and y\n",
    "    \"\"\"\n",
    "    start = np.random.choice(list(range(num_intervals)), size = batch_size)\n",
    "    start_x = X_train[start,:,:,:]\n",
    "    end_x = X_train[start + 1,:,:,:]\n",
    "    batch_x = np.concatenate([start_x,end_x], axis = 3)\n",
    "    batch_y = y_train[start,:,:,:]\n",
    "    return((batch_x, batch_y))"
   ]
  },
  {
   "cell_type": "code",
   "execution_count": 49,
   "metadata": {},
   "outputs": [
    {
     "data": {
      "text/plain": [
       "(8, 256, 256, 6)"
      ]
     },
     "execution_count": 49,
     "metadata": {},
     "output_type": "execute_result"
    }
   ],
   "source": [
    "sample()[0].shape"
   ]
  },
  {
   "cell_type": "code",
   "execution_count": 67,
   "metadata": {
    "collapsed": true
   },
   "outputs": [],
   "source": [
    "# conv_layer: conv - BN - ReLu - max_pool\n",
    "def conv_layer(X, scope, conv_size, conv_stride, bias_size, activation = True):\n",
    "    with tf.variable_scope(scope):\n",
    "        W = tf.get_variable(\"Weight\", shape=conv_size)\n",
    "        b = tf.get_variable(\"Bias\", shape=bias_size)\n",
    "        a = tf.nn.conv2d(X, W, strides=conv_stride, padding='SAME') + b\n",
    "        if activation:\n",
    "            h = tf.nn.relu(a)\n",
    "        else:\n",
    "            h = a\n",
    "        return h\n",
    "# dense_layer\n",
    "def dense_layer(X, scope, weight_size, bias_size):\n",
    "    with tf.variable_scope(scope):\n",
    "        W = tf.get_variable(\"Weight\", shape=weight_size)\n",
    "        b = tf.get_variable(\"Bias\", shape=bias_size)\n",
    "        return tf.matmul(X, W) + b"
   ]
  },
  {
   "cell_type": "code",
   "execution_count": null,
   "metadata": {
    "collapsed": true
   },
   "outputs": [],
   "source": [
    "tf.reset_default_graph()\n",
    "def my_model(X,y):\n",
    "    conv1 = conv_layer(X, 'conv1', [3,3,6,48],[1,1,1,1], [48])  # (N, 256, 256, 48)\n",
    "    conv2 = conv_layer(conv1, 'conv2', [3,3,48,12],[1,1,1,1], [12]) # (N, 8, 8, 64)\n",
    "    conv3 = conv_layer(conv2, 'conv3', [3,3,12,3],[1,1,1,1], [3], activation = False) # (N, 4, 4, 64)\n",
    "    y_out = conv3\n",
    "    return y_out\n",
    "\n",
    "X = tf.placeholder(tf.float32, [None, 256, 256, 6])\n",
    "y = tf.placeholder(tf.float32, [None, 256, 256, 3])\n",
    "\n",
    "learning_rate = 1e-3\n",
    "y_out = my_model(X,y)\n",
    "\n",
    "mean_loss = tf.reduce_mean(tf.nn.l2_loss(y_out - y))\n",
    "optimizer = tf.train.AdamOptimizer(learning_rate)\n",
    "# batch normalization in tensorflow requires this extra dependency\n",
    "extra_update_ops = tf.get_collection(tf.GraphKeys.UPDATE_OPS)\n",
    "with tf.control_dependencies(extra_update_ops):\n",
    "    train_step = optimizer.minimize(mean_loss)\n",
    "\n",
    "pass"
   ]
  },
  {
   "cell_type": "code",
   "execution_count": null,
   "metadata": {
    "scrolled": false
   },
   "outputs": [
    {
     "name": "stdout",
     "output_type": "stream",
     "text": [
      "batch : 0  loss: 1.890e+08\n",
      "batch : 5  loss: 7.832e+07\n",
      "batch : 10  loss: 4.270e+07\n",
      "batch : 15  loss: 4.067e+07\n",
      "batch : 20  loss: 3.397e+07\n",
      "batch : 25  loss: 3.185e+07\n"
     ]
    }
   ],
   "source": [
    "epochs = 30\n",
    "sess =  tf.Session()\n",
    "sess.run(tf.global_variables_initializer())\n",
    "variables = [mean_loss,train_step]\n",
    "history = []\n",
    "for e in range(epochs):\n",
    "    sampled = sample()\n",
    "    feed_dict = {X: sampled[0], y: sampled[1]}\n",
    "    loss, _ = sess.run(variables,feed_dict=feed_dict)\n",
    "    history.append(loss)\n",
    "    if e % 5 == 0:\n",
    "        print('batch : {0}  loss: {1:.3e}'.format(e, loss))\n",
    "    plt.plot(history)"
   ]
  },
  {
   "cell_type": "code",
   "execution_count": 56,
   "metadata": {},
   "outputs": [
    {
     "name": "stdout",
     "output_type": "stream",
     "text": [
      "Tensor(\"Mean:0\", shape=(), dtype=float32)\n",
      "Tensor(\"conv3/Relu:0\", shape=(?, 256, 256, 3), dtype=float32)\n"
     ]
    }
   ],
   "source": [
    "return_variables = [mean_loss, y_out]\n",
    "print(mean_loss)\n",
    "print(y_out)\n",
    "sampled = sample()\n",
    "feed_dict = {X: sampled[0], y: sampled[1]}\n",
    "result = sess.run(return_variables, feed_dict=feed_dict)"
   ]
  },
  {
   "cell_type": "code",
   "execution_count": 62,
   "metadata": {},
   "outputs": [
    {
     "data": {
      "text/plain": [
       "<matplotlib.image.AxesImage at 0x11e22cb70>"
      ]
     },
     "execution_count": 62,
     "metadata": {},
     "output_type": "execute_result"
    },
    {
     "data": {
      "image/png": "[encoded data removed]",
      "text/plain": [
       "<matplotlib.figure.Figure at 0x120807c50>"
      ]
     },
     "metadata": {},
     "output_type": "display_data"
    }
   ],
   "source": [
    "test_ind = 6\n",
    "plt.subplot(221)\n",
    "plt.imshow((sampled[0][test_ind,:,:,:3]+mean_image).astype('uint8'))\n",
    "plt.subplot(222)\n",
    "plt.imshow((sampled[0][test_ind,:,:,3:]+mean_image).astype('uint8'))\n",
    "plt.subplot(223)\n",
    "plt.imshow((sampled[1][test_ind,:,:,:]+mean_image).astype('uint8'))\n",
    "plt.subplot(224)\n",
    "y_pred = result[1]\n",
    "plt.imshow((y_pred[test_ind,:,:,:]+mean_image).astype('uint8'))"
   ]
  },
  {
   "cell_type": "code",
   "execution_count": null,
   "metadata": {
    "collapsed": true
   },
   "outputs": [],
   "source": []
  }
 ],
 "metadata": {
  "kernelspec": {
   "display_name": "Python 3",
   "language": "python",
   "name": "python3"
  },
  "language_info": {
   "codemirror_mode": {
    "name": "ipython",
    "version": 3
   },
   "file_extension": ".py",
   "mimetype": "text/x-python",
   "name": "python",
   "nbconvert_exporter": "python",
   "pygments_lexer": "ipython3",
   "version": "3.6.1"
  }
 },
 "nbformat": 4,
 "nbformat_minor": 2
}
