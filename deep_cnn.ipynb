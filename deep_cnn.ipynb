{
 "cells": [
  {
   "cell_type": "code",
   "execution_count": 1,
   "metadata": {
    "collapsed": true
   },
   "outputs": [],
   "source": [
    "import tensorflow as tf\n",
    "from util import *\n",
    "from util.parser import *\n",
    "from util.img_kit import *\n",
    "from IPython import display\n",
    "import numpy as np\n",
    "from scipy import ndimage\n",
    "from scipy import misc\n",
    "from os import walk\n",
    "import os\n",
    "from PIL import Image\n",
    "\n",
    "import matplotlib.pyplot as plt\n",
    "%matplotlib inline\n",
    "plt.rcParams['image.interpolation'] = 'nearest'\n",
    "plt.rcParams['figure.figsize'] = (10.0, 10) # set default size of plots\n"
   ]
  },
  {
   "cell_type": "code",
   "execution_count": 2,
   "metadata": {},
   "outputs": [
    {
     "name": "stdout",
     "output_type": "stream",
     "text": [
      "Total Images: 131\n",
      "From:         square-001.jpeg\n",
      "To:           square-131.jpeg\n"
     ]
    }
   ],
   "source": [
    "\"\"\" Load data \"\"\"\n",
    "img_folder = \"data/moving-box/frames/square\"\n",
    "# img_folder = \"data/moving-box/frames/moving-two-box-uniform\"\n",
    "# img_folder = \"data/kid-conversation\"\n",
    "# img_folder = \"data/kid-swing\"\n",
    "imgs = [p[2] for p in walk(img_folder)][0]\n",
    "imgs = list(filter(lambda x: not x.startswith(\".\"), imgs))\n",
    "prefix, postfix = imgs[0].split(\"-\")[0], imgs[0].split(\".\")[1]\n",
    "print(\"Total Images: {}\".format(len(imgs)))\n",
    "print(\"From:         {}\".format(imgs[0]))\n",
    "print(\"To:           {}\".format(imgs[-1]))"
   ]
  },
  {
   "cell_type": "code",
   "execution_count": 179,
   "metadata": {},
   "outputs": [
    {
     "name": "stdout",
     "output_type": "stream",
     "text": [
      "Select Range:  1 -> 129 | 32 Intervals\n"
     ]
    }
   ],
   "source": [
    "gap = 3\n",
    "base_index = parse_img_index(imgs[0])\n",
    "to = parse_img_index(imgs[-1]) - (len(imgs)-1)%(gap + 1)\n",
    "num_intervals = (to-base_index)//(gap + 1)\n",
    "\n",
    "print(\"Select Range:  {} -> {} | {} Intervals\".format(base_index, to, num_intervals))"
   ]
  },
  {
   "cell_type": "code",
   "execution_count": 180,
   "metadata": {
    "collapsed": true
   },
   "outputs": [],
   "source": [
    "def index_to_img(i):\n",
    "    return \"{}/{}-{}.{}\".format(img_folder, prefix, \"%03d\"%(base_index + i), postfix)"
   ]
  },
  {
   "cell_type": "code",
   "execution_count": 181,
   "metadata": {},
   "outputs": [
    {
     "name": "stdout",
     "output_type": "stream",
     "text": [
      "Image shape: (256, 256, 3)\n",
      "(33, 256, 256, 3)\n",
      "(33, 256, 256, 3)\n"
     ]
    }
   ],
   "source": [
    "x_index = [i*(gap+1) for i in range(num_intervals + 1)]\n",
    "mid_index = [x + (gap+1)//2 for x in x_index[:-1]]\n",
    "X_train = np.concatenate([misc.imread(index_to_img(i))[np.newaxis, ...] for i in x_index], axis=0)\n",
    "y_train = np.concatenate([misc.imread(index_to_img(i))[np.newaxis, ...] for i in mid_index], axis=0)\n",
    "X_train = X_train.astype('float32')\n",
    "y_train = X_train.astype('float32')\n",
    "# mean_image = np.mean(X_train, axis = 0)\n",
    "# X_train -= mean_image\n",
    "# y_train -= mean_image\n",
    "# X_train /= 255\n",
    "# y_train /= 255\n",
    "#y = [misc.imread(index_to_img(i)) for i in mid_index]  # ground truth of images in betwen\n",
    "print(\"Image shape: {}\".format(X_train[0].shape))\n",
    "print(X_train.shape)\n",
    "print(y_train.shape)"
   ]
  },
  {
   "cell_type": "code",
   "execution_count": 185,
   "metadata": {
    "collapsed": true
   },
   "outputs": [],
   "source": [
    "batch_size = 6"
   ]
  },
  {
   "cell_type": "code",
   "execution_count": 186,
   "metadata": {
    "collapsed": true
   },
   "outputs": [],
   "source": [
    "def sample():\n",
    "    \"\"\"\n",
    "    Select a batch size of data-point from X and y\n",
    "    \"\"\"\n",
    "    start = np.random.choice(list(range(num_intervals)), size = batch_size)\n",
    "    start_x = X_train[start,:,:,:]\n",
    "    end_x = X_train[start + 1,:,:,:]\n",
    "    mean = (start_x + end_x)/2\n",
    "    start_x -= mean\n",
    "    end_x -= mean\n",
    "    batch_x = np.concatenate([start_x,end_x], axis = 3)\n",
    "    batch_y = y_train[start,:,:,:] - mean\n",
    "    return((batch_x, batch_y, mean))"
   ]
  },
  {
   "cell_type": "code",
   "execution_count": 187,
   "metadata": {
    "collapsed": true
   },
   "outputs": [],
   "source": [
    "def conv_pool_block(inputs, conv_filter, conv_kernel, pool_size, pool_stride):\n",
    "    conv1 = tf.layers.conv2d(inputs, \n",
    "                             conv_filter, \n",
    "                             conv_kernel,\n",
    "                             padding='same', \n",
    "                             activation=tf.nn.relu)\n",
    "    pooled = tf.layers.max_pooling2d(conv1, pool_size, pool_stride)\n",
    "    return pooled\n",
    "def dconv_block(inputs, dconv_filter, dconv_kernel, dconv_strides, activation = None, res_conv = None):\n",
    "    if activation == 'ReLu':\n",
    "        dconv = tf.layers.conv2d_transpose(inputs, \n",
    "                                       filters = dconv_filter, \n",
    "                                       kernel_size = dconv_kernel, \n",
    "                                       strides = dconv_strides, \n",
    "                                       padding='same',\n",
    "                                       activation=tf.nn.relu)\n",
    "    else:\n",
    "        dconv = tf.layers.conv2d_transpose(inputs, \n",
    "                                       filters = dconv_filter, \n",
    "                                       kernel_size = dconv_kernel, \n",
    "                                       strides = dconv_strides, \n",
    "                                       padding='same')\n",
    "    if res_conv is None:\n",
    "        return dconv\n",
    "    conv_concat = tf.concat([dconv, res_conv],3)\n",
    "    return conv_concat"
   ]
  },
  {
   "cell_type": "code",
   "execution_count": 188,
   "metadata": {
    "scrolled": false
   },
   "outputs": [],
   "source": [
    "tf.reset_default_graph()\n",
    "def my_model(X,y):\n",
    "    block1 = conv_pool_block(X, 24, (3,3), (2,2), (2,2))  #(N, 128, 128, 24)\n",
    "    block2 = conv_pool_block(block1, 48, (3,3), (2,2), (2,2))  #(N, 64, 64, 48)\n",
    "    block3 = conv_pool_block(block2, 96, (3,3), (2,2), (2,2))  #(N, 32, 32, 96)\n",
    "    block4 = conv_pool_block(block3, 192, (3,3), (2,2), (2,2))  #(N, 16, 16, 192)\n",
    "    dconv_block1 = dconv_block(block4, 96, (3,3), (2,2), 'ReLu', block3) #(N, 32, 32, 192)\n",
    "    dconv_block2 = dconv_block(dconv_block1, 48, (3,3), (2,2), 'ReLu',block2) #(N, 64, 64, 96)\n",
    "    dconv_block3 = dconv_block(dconv_block2, 24, (3,3), (2,2), 'ReLu',block1) #(N, 128, 128, 48)\n",
    "    y_out = dconv_block(dconv_block3, 3, (3,3),(2,2))\n",
    "    return y_out\n",
    "\n",
    "X = tf.placeholder(tf.float32, [None, 256, 256, 6])\n",
    "y = tf.placeholder(tf.float32, [None, 256, 256, 3])\n",
    "\n",
    "learning_rate = 3e-3\n",
    "y_out = my_model(X,y)\n",
    "\n",
    "mean_loss = tf.reduce_mean(tf.nn.l2_loss(y_out - y))\n",
    "optimizer = tf.train.AdamOptimizer(learning_rate)\n",
    "# batch normalization in tensorflow requires this extra dependency\n",
    "extra_update_ops = tf.get_collection(tf.GraphKeys.UPDATE_OPS)\n",
    "with tf.control_dependencies(extra_update_ops):\n",
    "    train_step = optimizer.minimize(mean_loss)\n",
    "\n",
    "pass"
   ]
  },
  {
   "cell_type": "code",
   "execution_count": 189,
   "metadata": {},
   "outputs": [
    {
     "name": "stdout",
     "output_type": "stream",
     "text": [
      "batch : 0  loss: 1.930e+07\n",
      "batch : 5  loss: 7.130e+06\n",
      "batch : 10  loss: 3.272e+06\n",
      "batch : 15  loss: 2.429e+06\n",
      "batch : 20  loss: 1.572e+06\n",
      "batch : 25  loss: 1.085e+06\n",
      "batch : 30  loss: 9.797e+05\n",
      "batch : 35  loss: 6.762e+05\n",
      "batch : 40  loss: 6.103e+05\n",
      "batch : 45  loss: 4.651e+05\n",
      "batch : 50  loss: 7.143e+05\n",
      "batch : 55  loss: 6.457e+05\n",
      "batch : 60  loss: 5.350e+05\n",
      "batch : 65  loss: 5.629e+05\n",
      "batch : 70  loss: 4.799e+05\n",
      "batch : 75  loss: 5.276e+05\n",
      "batch : 80  loss: 3.621e+05\n",
      "batch : 85  loss: 3.914e+05\n",
      "batch : 90  loss: 5.161e+05\n",
      "batch : 95  loss: 3.793e+05\n"
     ]
    },
    {
     "data": {
      "image/png": "[encoded data removed]",
      "text/plain": [
       "<matplotlib.figure.Figure at 0x127e0f2e8>"
      ]
     },
     "metadata": {},
     "output_type": "display_data"
    }
   ],
   "source": [
    "epochs = 100\n",
    "sess =  tf.Session()\n",
    "sess.run(tf.global_variables_initializer())\n",
    "variables = [mean_loss,train_step]\n",
    "history = []\n",
    "for e in range(epochs):\n",
    "    sampled = sample()\n",
    "    feed_dict = {X: sampled[0], y: sampled[1]}\n",
    "    loss, _ = sess.run(variables,feed_dict=feed_dict)\n",
    "    history.append(loss)\n",
    "    if e % 5 == 0:\n",
    "        print('batch : {0}  loss: {1:.3e}'.format(e, loss))\n",
    "    plt.plot(history)"
   ]
  },
  {
   "cell_type": "code",
   "execution_count": 190,
   "metadata": {},
   "outputs": [
    {
     "name": "stdout",
     "output_type": "stream",
     "text": [
      "353768.0\n"
     ]
    }
   ],
   "source": [
    "return_variables = [mean_loss, y_out]\n",
    "sampled = sample()\n",
    "feed_dict = {X: sampled[0], y: sampled[1]}\n",
    "result = sess.run(return_variables, feed_dict=feed_dict)\n",
    "print(result[0])"
   ]
  },
  {
   "cell_type": "code",
   "execution_count": 191,
   "metadata": {},
   "outputs": [
    {
     "data": {
      "text/plain": [
       "<matplotlib.image.AxesImage at 0x12473fcf8>"
      ]
     },
     "execution_count": 191,
     "metadata": {},
     "output_type": "execute_result"
    },
    {
     "data": {
      "image/png": "[encoded data removed]",
      "text/plain": [
       "<matplotlib.figure.Figure at 0x1262af8d0>"
      ]
     },
     "metadata": {},
     "output_type": "display_data"
    }
   ],
   "source": [
    "plt.imshow((mean_image).astype('uint8'))"
   ]
  },
  {
   "cell_type": "code",
   "execution_count": 192,
   "metadata": {},
   "outputs": [
    {
     "data": {
      "text/plain": [
       "<matplotlib.image.AxesImage at 0x127cca8d0>"
      ]
     },
     "execution_count": 192,
     "metadata": {},
     "output_type": "execute_result"
    },
    {
     "data": {
      "image/png": "[encoded data removed]",
      "text/plain": [
       "<matplotlib.figure.Figure at 0x11bb07ac8>"
      ]
     },
     "metadata": {},
     "output_type": "display_data"
    }
   ],
   "source": [
    "test_ind = 0\n",
    "plt.subplot(221)\n",
    "plt.imshow((sampled[0][test_ind,:,:,:3]+sampled[2][test_ind,:,:,:3]).astype('uint8'))\n",
    "plt.subplot(222)\n",
    "plt.imshow((sampled[0][test_ind,:,:,3:]+sampled[2][test_ind,:,:,:3]).astype('uint8'))\n",
    "plt.subplot(223)\n",
    "plt.imshow((sampled[1][test_ind,:,:,:]+sampled[2][test_ind,:,:,:3]).astype('uint8'))\n",
    "plt.subplot(224)\n",
    "y_pred = result[1]\n",
    "plt.imshow((y_pred[test_ind,:,:,:]+sampled[2][test_ind,:,:,:3]).astype('uint8'))"
   ]
  },
  {
   "cell_type": "code",
   "execution_count": 154,
   "metadata": {},
   "outputs": [
    {
     "data": {
      "text/plain": [
       "array([[[254, 254, 254],\n",
       "        [254, 254, 254],\n",
       "        [254, 254, 254],\n",
       "        ..., \n",
       "        [254, 254, 254],\n",
       "        [254, 254, 254],\n",
       "        [254, 254, 254]],\n",
       "\n",
       "       [[254, 254, 254],\n",
       "        [254, 254, 254],\n",
       "        [254, 254, 254],\n",
       "        ..., \n",
       "        [254, 254, 254],\n",
       "        [254, 254, 254],\n",
       "        [254, 254, 254]],\n",
       "\n",
       "       [[254, 254, 254],\n",
       "        [254, 254, 254],\n",
       "        [254, 254, 254],\n",
       "        ..., \n",
       "        [254, 254, 254],\n",
       "        [254, 254, 254],\n",
       "        [254, 254, 254]],\n",
       "\n",
       "       ..., \n",
       "       [[254, 254, 254],\n",
       "        [254, 254, 254],\n",
       "        [254, 254, 254],\n",
       "        ..., \n",
       "        [254, 254, 254],\n",
       "        [254, 254, 254],\n",
       "        [254, 254, 254]],\n",
       "\n",
       "       [[254, 254, 254],\n",
       "        [254, 254, 254],\n",
       "        [254, 254, 254],\n",
       "        ..., \n",
       "        [254, 254, 254],\n",
       "        [254, 254, 254],\n",
       "        [254, 254, 254]],\n",
       "\n",
       "       [[254, 254, 254],\n",
       "        [254, 254, 254],\n",
       "        [254, 254, 254],\n",
       "        ..., \n",
       "        [254, 254, 254],\n",
       "        [254, 254, 254],\n",
       "        [254, 254, 254]]], dtype=uint8)"
      ]
     },
     "execution_count": 154,
     "metadata": {},
     "output_type": "execute_result"
    }
   ],
   "source": [
    "(y_pred[test_ind,:,:,:]+mean_image).astype('uint8')"
   ]
  },
  {
   "cell_type": "code",
   "execution_count": null,
   "metadata": {
    "collapsed": true
   },
   "outputs": [],
   "source": []
  }
 ],
 "metadata": {
  "kernelspec": {
   "display_name": "Python 3",
   "language": "python",
   "name": "python3"
  },
  "language_info": {
   "codemirror_mode": {
    "name": "ipython",
    "version": 3
   },
   "file_extension": ".py",
   "mimetype": "text/x-python",
   "name": "python",
   "nbconvert_exporter": "python",
   "pygments_lexer": "ipython3",
   "version": "3.6.1"
  }
 },
 "nbformat": 4,
 "nbformat_minor": 2
}
