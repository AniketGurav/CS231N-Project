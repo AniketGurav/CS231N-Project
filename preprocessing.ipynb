{
 "cells": [
  {
   "cell_type": "markdown",
   "metadata": {},
   "source": [
    "# Preprocessing"
   ]
  },
  {
   "cell_type": "markdown",
   "metadata": {},
   "source": [
    "### A suite of preprocess toolkit"
   ]
  },
  {
   "cell_type": "markdown",
   "metadata": {},
   "source": [
    "## Load Libraries"
   ]
  },
  {
   "cell_type": "code",
   "execution_count": 5,
   "metadata": {},
   "outputs": [],
   "source": [
    "from util import *\n",
    "from util.parser import *\n",
    "from util.img_kit import *\n",
    "from util.notebook_display import *\n",
    "from IPython import display\n",
    "import numpy as np\n",
    "from scipy import ndimage\n",
    "from scipy import misc\n",
    "from os import walk\n",
    "import os\n",
    "from PIL import Image\n",
    "\n",
    "import matplotlib.pyplot as plt\n",
    "%matplotlib inline\n",
    "plt.rcParams['image.interpolation'] = 'nearest'\n",
    "plt.rcParams['figure.figsize'] = (5.0, 5.0) # set default size of plots\n",
    "plt.rcParams['image.cmap'] = 'gray'\n",
    "\n",
    "%load_ext autoreload\n",
    "%autoreload 2"
   ]
  },
  {
   "cell_type": "code",
   "execution_count": 60,
   "metadata": {
    "collapsed": true
   },
   "outputs": [],
   "source": [
    "def plot_img(img):\n",
    "    ax = plt.subplot(1,1,1)\n",
    "    plt.imshow(img)\n",
    "    disable_axis(ax)"
   ]
  },
  {
   "cell_type": "code",
   "execution_count": 22,
   "metadata": {
    "collapsed": true
   },
   "outputs": [],
   "source": [
    "def sample_img(imgs):\n",
    "    return imgs[np.random.choice(range(len(imgs)))]"
   ]
  },
  {
   "cell_type": "code",
   "execution_count": 23,
   "metadata": {
    "collapsed": true
   },
   "outputs": [],
   "source": [
    "def sample_and_show(imgs):\n",
    "    sample = sample_img(imgs)\n",
    "    plot_img(sample)\n",
    "    return sample"
   ]
  },
  {
   "cell_type": "markdown",
   "metadata": {},
   "source": [
    "## Resize Images"
   ]
  },
  {
   "cell_type": "code",
   "execution_count": 6,
   "metadata": {},
   "outputs": [
    {
     "name": "stdout",
     "output_type": "stream",
     "text": [
      "data/moving-box/frames/moving-box-uniform/128x128 not existing. Just created!\n",
      "Images in data/moving-box/frames/moving-box-uniform/ resized to (128, 128), \n",
      "         saved in data/moving-box/frames/moving-box-uniform/128x128\n"
     ]
    }
   ],
   "source": [
    "# size = (256, 256)\n",
    "size = (128, 128)\n",
    "# img_folder = \"data/moving-box/frames/ffmpeg\"\n",
    "img_folder = \"data/moving-box/frames/moving-box-uniform/\"\n",
    "output = os.path.join(img_folder, \"x\".join([str(x) for x in size]))\n",
    "resize_all(img_folder, output, size)\n",
    "print(\"Images in {} resized to {}, \\n         saved in {}\".format(img_folder, str(size), output))"
   ]
  },
  {
   "cell_type": "markdown",
   "metadata": {
    "collapsed": true
   },
   "source": [
    "## Convert Images to Gray Scale"
   ]
  },
  {
   "cell_type": "code",
   "execution_count": 67,
   "metadata": {},
   "outputs": [
    {
     "name": "stdout",
     "output_type": "stream",
     "text": [
      "original dim: (720, 960, 3)\n",
      "grayed   dim: (720, 960)\n"
     ]
    },
    {
     "data": {
      "image/png": "[encoded data removed]",
      "text/plain": [
       "<matplotlib.figure.Figure at 0x10cbbecf8>"
      ]
     },
     "metadata": {},
     "output_type": "display_data"
    }
   ],
   "source": [
    "folder = \"data/moving-box/frames/moving-box-non-uniform\"\n",
    "imgs = imgs_in_folder(folder, \"jpg\")\n",
    "sample = sample_and_show(imgs)\n",
    "grayed = rgb2gray(sample)\n",
    "print(\"original dim: {}\".format(sample.shape))\n",
    "print(\"grayed   dim: {}\".format(grayed.shape))"
   ]
  },
  {
   "cell_type": "code",
   "execution_count": 16,
   "metadata": {},
   "outputs": [
    {
     "data": {
      "text/plain": [
       "<matplotlib.image.AxesImage at 0x129c45390>"
      ]
     },
     "execution_count": 16,
     "metadata": {},
     "output_type": "execute_result"
    },
    {
     "data": {
      "image/png": "[encoded data removed]",
      "text/plain": [
       "<matplotlib.figure.Figure at 0x10834dd30>"
      ]
     },
     "metadata": {},
     "output_type": "display_data"
    }
   ],
   "source": [
    "plt.axis('off')\n",
    "ax = plt.subplot(1, 2, 1)\n",
    "ax.set_aspect('equal')\n",
    "disable_axis(ax)\n",
    "plt.title(\"Original\")\n",
    "plt.imshow(sample)\n",
    "ax = plt.subplot(1, 2, 2)\n",
    "disable_axis(ax)\n",
    "plt.title(\"Grayed\")\n",
    "plt.imshow(grayed)"
   ]
  },
  {
   "cell_type": "markdown",
   "metadata": {},
   "source": [
    "## Compress and Save"
   ]
  },
  {
   "cell_type": "code",
   "execution_count": 68,
   "metadata": {},
   "outputs": [
    {
     "name": "stdout",
     "output_type": "stream",
     "text": [
      "Load img from file: shape = (720, 960)\n"
     ]
    },
    {
     "data": {
      "image/png": "[encoded data removed]",
      "text/plain": [
       "<matplotlib.figure.Figure at 0x10cbbef98>"
      ]
     },
     "metadata": {},
     "output_type": "display_data"
    }
   ],
   "source": [
    "np.savez_compressed(\"tmp/grayed\", imgs = grayed)\n",
    "grayed_from_file = np.load(\"tmp/grayed.npz\")['imgs']\n",
    "print(\"Load img from file: shape = {}\".format(grayed_from_file.shape))\n",
    "plot_img(grayed_from_file)"
   ]
  },
  {
   "cell_type": "markdown",
   "metadata": {},
   "source": [
    "## Reside All Images, Grayscale, Compress and Save"
   ]
  },
  {
   "cell_type": "code",
   "execution_count": 46,
   "metadata": {},
   "outputs": [
    {
     "name": "stdout",
     "output_type": "stream",
     "text": [
      "Images in folder: 14\n",
      "resized shape:    (64, 64, 3)\n",
      "grayed shape:     (64, 64)\n",
      "Processed:        (14, 64, 64)\n",
      "Saved to:         data/moving-box/processed/single-uniform-64x64\n"
     ]
    }
   ],
   "source": [
    "folder = \"data/moving-box/frames/moving-box-uniform/128x128\"\n",
    "imgs = imgs_in_folder(folder, \"jpeg\")\n",
    "print(\"Images in folder: {}\".format(len(imgs)))\n",
    "size = (64, 64)\n",
    "resized_imgs = [resize(img, size) for img in imgs]\n",
    "print(\"resized shape:    {}\".format(sample.shape))\n",
    "grayed_imgs = [rgb2gray(img) for img in resized_imgs]\n",
    "print(\"grayed shape:     {}\".format(sample_img(grayed_imgs).shape))\n",
    "processed = np.array(grayed_imgs)\n",
    "print(\"Processed:        {}\".format(processed.shape))\n",
    "info = {\"images:\": \"moving box uniform\", \"dim\": processed.shape}\n",
    "\n",
    "save_path = \"data/moving-box/processed/single-uniform-{}\".format(\"x\".join(str(x) for x in size))\n",
    "np.savez_compressed(save_path, imgs = processed, info = info)\n",
    "print(\"Saved to:         {}\".format(save_path))"
   ]
  },
  {
   "cell_type": "markdown",
   "metadata": {},
   "source": [
    "#### Test"
   ]
  },
  {
   "cell_type": "code",
   "execution_count": 52,
   "metadata": {},
   "outputs": [
    {
     "name": "stdout",
     "output_type": "stream",
     "text": [
      "imgs shape:     (14, 64, 64)\n",
      "info:           {'images:': 'moving box uniform', 'dim': (14, 64, 64)}\n"
     ]
    }
   ],
   "source": [
    "data = np.load(save_path + \".npz\")\n",
    "imgs, info = data['imgs'], data['info']\n",
    "print(\"imgs shape:     {}\".format(imgs.shape))\n",
    "print(\"info:           {}\".format(info))"
   ]
  },
  {
   "cell_type": "code",
   "execution_count": 66,
   "metadata": {},
   "outputs": [
    {
     "data": {
      "image/png": "[encoded data removed]",
      "text/plain": [
       "<matplotlib.figure.Figure at 0x10cc1c6d8>"
      ]
     },
     "metadata": {},
     "output_type": "display_data"
    }
   ],
   "source": [
    "sample = sample_and_show(imgs)"
   ]
  },
  {
   "cell_type": "code",
   "execution_count": null,
   "metadata": {
    "collapsed": true
   },
   "outputs": [],
   "source": []
  }
 ],
 "metadata": {
  "kernelspec": {
   "display_name": "Python 3",
   "language": "python",
   "name": "python3"
  },
  "language_info": {
   "codemirror_mode": {
    "name": "ipython",
    "version": 3
   },
   "file_extension": ".py",
   "mimetype": "text/x-python",
   "name": "python",
   "nbconvert_exporter": "python",
   "pygments_lexer": "ipython3",
   "version": "3.6.1"
  }
 },
 "nbformat": 4,
 "nbformat_minor": 2
}
